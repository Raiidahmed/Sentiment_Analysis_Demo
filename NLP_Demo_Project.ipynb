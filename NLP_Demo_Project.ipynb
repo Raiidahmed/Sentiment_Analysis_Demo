{
  "nbformat": 4,
  "nbformat_minor": 0,
  "metadata": {
    "colab": {
      "name": "NLP Demo Project",
      "provenance": [],
      "collapsed_sections": [],
      "authorship_tag": "ABX9TyNDYkqLxQsuVhHUEC8WcVEf",
      "include_colab_link": true
    },
    "kernelspec": {
      "name": "python3",
      "display_name": "Python 3"
    },
    "language_info": {
      "name": "python"
    }
  },
  "cells": [
    {
      "cell_type": "markdown",
      "metadata": {
        "id": "view-in-github",
        "colab_type": "text"
      },
      "source": [
        "<a href=\"https://colab.research.google.com/github/Raiidahmed/Sentiment_Analysis_Demo/blob/main/NLP_Demo_Project.ipynb\" target=\"_parent\"><img src=\"https://colab.research.google.com/assets/colab-badge.svg\" alt=\"Open In Colab\"/></a>"
      ]
    },
    {
      "cell_type": "markdown",
      "source": [
        "A little sentiment analysis project to give myself familiarity with the NLP training process, and a base model to go through the MLOps cycle with. Made with the use of: https://www.datacamp.com/community/tutorials/text-analytics-beginners-nltk"
      ],
      "metadata": {
        "id": "cmJEOt5sncmh"
      }
    },
    {
      "cell_type": "markdown",
      "source": [
        "Installing and importing the NTLK package, a tool to use common NLP algorithms such as tokenizing, part of speech tagging, stemming, senitment analysis, topic segmentation, and named entity recognition.\n",
        "\n",
        "Tokenzing:\n",
        "Part of speech tagging:\n",
        "Stemming:\n",
        "Sentiment analysis:\n",
        "Topic segmentation:\n",
        "Named entity recognition:"
      ],
      "metadata": {
        "id": "9-Wtf-5rkbip"
      }
    },
    {
      "cell_type": "code",
      "execution_count": null,
      "metadata": {
        "colab": {
          "base_uri": "https://localhost:8080/"
        },
        "id": "Y0iWdkC7kAzk",
        "outputId": "14a47c69-5e83-450b-a4a9-82b4a1c27d62"
      },
      "outputs": [
        {
          "output_type": "stream",
          "name": "stdout",
          "text": [
            "Requirement already satisfied: nltk in /usr/local/lib/python3.7/dist-packages (3.2.5)\n",
            "Requirement already satisfied: six in /usr/local/lib/python3.7/dist-packages (from nltk) (1.15.0)\n"
          ]
        }
      ],
      "source": [
        "!pip install nltk"
      ]
    },
    {
      "cell_type": "code",
      "source": [
        "import nltk"
      ],
      "metadata": {
        "id": "rZgBxDHVl-88"
      },
      "execution_count": null,
      "outputs": []
    },
    {
      "cell_type": "markdown",
      "source": [
        "Importing and using the tokenizer package: used to divide words into substrings. Allows us to find the words and punctuation in a string. Here, the string is tokenized into sentences."
      ],
      "metadata": {
        "id": "fdDXRCRpm3H0"
      }
    },
    {
      "cell_type": "code",
      "source": [
        "from nltk.tokenize import sent_tokenize as st\n",
        "nltk.download('punkt')"
      ],
      "metadata": {
        "colab": {
          "base_uri": "https://localhost:8080/"
        },
        "id": "tRB_XmNBnHBU",
        "outputId": "57d6d8cb-3533-478f-98d4-b87ac2ae1909"
      },
      "execution_count": null,
      "outputs": [
        {
          "output_type": "stream",
          "name": "stdout",
          "text": [
            "[nltk_data] Downloading package punkt to /root/nltk_data...\n",
            "[nltk_data]   Unzipping tokenizers/punkt.zip.\n"
          ]
        },
        {
          "output_type": "execute_result",
          "data": {
            "text/plain": [
              "True"
            ]
          },
          "metadata": {},
          "execution_count": 11
        }
      ]
    },
    {
      "cell_type": "code",
      "source": [
        "text = \"\"\"Just because we've gone away,\n",
        "Here's a message from me and Ray,\n",
        "We're not gonna let the music die,\n",
        "Join us if you've got the energy,\n",
        "\n",
        "We're the proud, the few,\n",
        "Descendents rockin' alone tonight,\n",
        "We're the proud, the few,\n",
        "Descendents pickin' our butts tonight.\"\"\""
      ],
      "metadata": {
        "id": "y_Mh8M3GnNBL"
      },
      "execution_count": null,
      "outputs": []
    },
    {
      "cell_type": "code",
      "source": [
        "tokens = st(text)\n",
        "print(tokens)"
      ],
      "metadata": {
        "colab": {
          "base_uri": "https://localhost:8080/"
        },
        "id": "uAbl_zATrS6M",
        "outputId": "5342680f-f772-4f8b-e3c1-a7c69deddde1"
      },
      "execution_count": null,
      "outputs": [
        {
          "output_type": "stream",
          "name": "stdout",
          "text": [
            "[\"Just because we've gone away,\\nHere's a message from me and Ray,\\nWe're not gonna let the music die,\\nJoin us if you've got the energy,\\n\\nWe're the proud, the few,\\nDescendents rockin' alone tonight,\\nWe're the proud, the few,\\nDescendents pickin' our butts tonight.\"]\n"
          ]
        }
      ]
    },
    {
      "cell_type": "markdown",
      "source": [
        "Importing and using the tokenizer package: used to divide words into substrings. Allows us to find the words and punctuation in a string. Here, the string is tokenized into words."
      ],
      "metadata": {
        "id": "D9Uk665NsBSs"
      }
    },
    {
      "cell_type": "code",
      "source": [
        "from nltk.tokenize import word_tokenize as wt"
      ],
      "metadata": {
        "id": "r2gU-A82sJw8"
      },
      "execution_count": null,
      "outputs": []
    },
    {
      "cell_type": "code",
      "source": [
        "tokens = wt(text)\n",
        "print(tokens)"
      ],
      "metadata": {
        "colab": {
          "base_uri": "https://localhost:8080/"
        },
        "id": "V7DEX_tvsSIT",
        "outputId": "a7f373d3-85cd-4159-983e-2395e82ee923"
      },
      "execution_count": null,
      "outputs": [
        {
          "output_type": "stream",
          "name": "stdout",
          "text": [
            "['Just', 'because', 'we', \"'ve\", 'gone', 'away', ',', 'Here', \"'s\", 'a', 'message', 'from', 'me', 'and', 'Ray', ',', 'We', \"'re\", 'not', 'gon', 'na', 'let', 'the', 'music', 'die', ',', 'Join', 'us', 'if', 'you', \"'ve\", 'got', 'the', 'energy', ',', 'We', \"'re\", 'the', 'proud', ',', 'the', 'few', ',', 'Descendents', 'rockin', \"'\", 'alone', 'tonight', ',', 'We', \"'re\", 'the', 'proud', ',', 'the', 'few', ',', 'Descendents', 'pickin', \"'\", 'our', 'butts', 'tonight', '.']\n"
          ]
        }
      ]
    },
    {
      "cell_type": "markdown",
      "source": [
        "Plotting the word frequency distribution of tokens in the string, by most common words. Will use pyplot to show information."
      ],
      "metadata": {
        "id": "cV0Eb1X0uJuT"
      }
    },
    {
      "cell_type": "code",
      "source": [
        "from nltk.probability import FreqDist as fd"
      ],
      "metadata": {
        "id": "CAGkhfY_uXJw"
      },
      "execution_count": null,
      "outputs": []
    },
    {
      "cell_type": "code",
      "source": [
        "fdist = fd(tokens)\n",
        "print(fdist)"
      ],
      "metadata": {
        "colab": {
          "base_uri": "https://localhost:8080/"
        },
        "id": "yaY3FZmUufcf",
        "outputId": "709c4e28-d153-4247-a6c1-0a74054a822f"
      },
      "execution_count": null,
      "outputs": [
        {
          "output_type": "stream",
          "name": "stdout",
          "text": [
            "<FreqDist with 41 samples and 64 outcomes>\n"
          ]
        }
      ]
    },
    {
      "cell_type": "code",
      "source": [
        "fdist.most_common(2)"
      ],
      "metadata": {
        "colab": {
          "base_uri": "https://localhost:8080/"
        },
        "id": "ibJJH3OEul2E",
        "outputId": "c8c49642-438b-403e-c312-6d5b2c842d8a"
      },
      "execution_count": null,
      "outputs": [
        {
          "output_type": "execute_result",
          "data": {
            "text/plain": [
              "[(',', 9), ('the', 6)]"
            ]
          },
          "metadata": {},
          "execution_count": 19
        }
      ]
    },
    {
      "cell_type": "code",
      "source": [
        "import matplotlib.pyplot as plt\n",
        "fdist.plot(41, cumulative = False)\n",
        "plt.show()"
      ],
      "metadata": {
        "colab": {
          "base_uri": "https://localhost:8080/",
          "height": 334
        },
        "id": "7a44g6M5vZVW",
        "outputId": "f461c496-8b47-4e11-d83a-11f6f5a6170a"
      },
      "execution_count": null,
      "outputs": [
        {
          "output_type": "display_data",
          "data": {
            "text/plain": [
              "<Figure size 432x288 with 1 Axes>"
            ],
            "image/png": "[encoded data removed]"
          },
          "metadata": {
            "needs_background": "light"
          }
        }
      ]
    },
    {
      "cell_type": "markdown",
      "source": [
        "Now removing stopwords. Stopwords are parts of the text that are really just noise sug as is, am, are, this, etc...\n",
        "\n",
        "For NLTK, we need to create a list of stopwords and filter out tokens form these words. Stop words are available in the NLTK corpus package."
      ],
      "metadata": {
        "id": "z9VoQNiSwHPd"
      }
    },
    {
      "cell_type": "code",
      "source": [
        "nltk.download('stopwords')\n",
        "from nltk.corpus import stopwords as sw"
      ],
      "metadata": {
        "colab": {
          "base_uri": "https://localhost:8080/"
        },
        "id": "4Ct0ND5ZxQq1",
        "outputId": "8485a9b3-162a-46e5-ed41-f11a7aead4c4"
      },
      "execution_count": null,
      "outputs": [
        {
          "output_type": "stream",
          "name": "stdout",
          "text": [
            "[nltk_data] Downloading package stopwords to /root/nltk_data...\n",
            "[nltk_data]   Unzipping corpora/stopwords.zip.\n"
          ]
        }
      ]
    },
    {
      "cell_type": "code",
      "source": [
        "stop_words = set(sw.words(\"english\"))\n",
        "print(stop_words)"
      ],
      "metadata": {
        "colab": {
          "base_uri": "https://localhost:8080/"
        },
        "id": "RdNBRx4rxfY-",
        "outputId": "772cd643-6202-4734-f7a3-a9e2624861a4"
      },
      "execution_count": null,
      "outputs": [
        {
          "output_type": "stream",
          "name": "stdout",
          "text": [
            "{'them', 'once', \"hasn't\", 'from', 'were', \"you've\", 'you', 'those', \"shan't\", 'theirs', 'to', 'being', 'very', 'be', 'during', 'yourselves', 'if', 'below', 'hasn', 'only', 'mightn', 'that', 'such', 'about', 'then', \"doesn't\", 'doing', 's', \"you'll\", 'each', 'd', 'up', 'which', 'am', 'shan', 'they', 'hadn', 'was', 'more', 'she', 'some', \"hadn't\", 'further', 'of', 'how', 'no', \"you're\", \"weren't\", 'ours', 'myself', 'your', 'isn', \"mustn't\", 'until', 'themselves', 'at', 'too', 'ma', 'out', 'before', 'why', 'their', 'her', 'it', 'weren', \"aren't\", \"should've\", \"haven't\", 'don', 'had', 'now', 'will', 'y', 'so', 'ain', 'where', 'do', 'own', 'here', 'not', 'hers', 't', 'he', 'll', \"it's\", 'over', 've', \"didn't\", 'and', 'into', 'aren', 'off', 'yourself', 'whom', 'needn', 'should', 'under', \"wouldn't\", 'few', 'what', 'can', 'but', \"wasn't\", 'has', 'when', 'o', 'on', 're', 'these', 'himself', 'm', 'him', 'against', 'won', 'herself', 'yours', 'i', \"couldn't\", 'while', \"needn't\", 'in', \"isn't\", 'its', 'is', 'with', \"shouldn't\", 'after', 'a', 'didn', 'who', \"mightn't\", 'my', 'than', 'been', \"that'll\", 'as', 'our', 'all', 'have', 'does', 'his', 'other', 'are', 'above', 'there', 'or', 'because', 'the', 'nor', 'down', 'this', 'wasn', 'we', 'itself', \"she's\", 'same', 'both', 'me', 'between', 'ourselves', 'did', 'for', 'through', 'again', \"don't\", 'an', 'shouldn', 'mustn', 'by', 'having', 'haven', 'doesn', 'couldn', 'just', \"you'd\", 'wouldn', 'most', \"won't\", 'any'}\n"
          ]
        }
      ]
    },
    {
      "cell_type": "code",
      "source": [
        "filtered_sent = []\n",
        "[filtered_sent.append(x) for x in tokens if x not in stop_words]\n",
        "\n",
        "print(\"Tokenized Sentence: \", tokens)\n",
        "print(\"Filtered Sentence: \", filtered_sent)"
      ],
      "metadata": {
        "colab": {
          "base_uri": "https://localhost:8080/"
        },
        "id": "dHyD74szzmjI",
        "outputId": "ce126030-3aea-44c0-d696-49fc11ce875c"
      },
      "execution_count": null,
      "outputs": [
        {
          "output_type": "stream",
          "name": "stdout",
          "text": [
            "Tokenized Sentence:  ['Just', 'because', 'we', \"'ve\", 'gone', 'away', ',', 'Here', \"'s\", 'a', 'message', 'from', 'me', 'and', 'Ray', ',', 'We', \"'re\", 'not', 'gon', 'na', 'let', 'the', 'music', 'die', ',', 'Join', 'us', 'if', 'you', \"'ve\", 'got', 'the', 'energy', ',', 'We', \"'re\", 'the', 'proud', ',', 'the', 'few', ',', 'Descendents', 'rockin', \"'\", 'alone', 'tonight', ',', 'We', \"'re\", 'the', 'proud', ',', 'the', 'few', ',', 'Descendents', 'pickin', \"'\", 'our', 'butts', 'tonight', '.']\n",
            "Filtered Sentence:  ['Just', \"'ve\", 'gone', 'away', ',', 'Here', \"'s\", 'message', 'Ray', ',', 'We', \"'re\", 'gon', 'na', 'let', 'music', 'die', ',', 'Join', 'us', \"'ve\", 'got', 'energy', ',', 'We', \"'re\", 'proud', ',', ',', 'Descendents', 'rockin', \"'\", 'alone', 'tonight', ',', 'We', \"'re\", 'proud', ',', ',', 'Descendents', 'pickin', \"'\", 'butts', 'tonight', '.']\n"
          ]
        }
      ]
    },
    {
      "cell_type": "markdown",
      "source": [
        "Now for Lexicon Normalization. This is another form of reducing noise that turns words into their most common roots. Ex: connected --> connect. The first way we will do this is throught stemming. This is available in the nltk stem package."
      ],
      "metadata": {
        "id": "Wws98NR20gQq"
      }
    },
    {
      "cell_type": "code",
      "source": [
        "from nltk.stem import PorterStemmer as pst"
      ],
      "metadata": {
        "id": "3cZXi2D60uwo"
      },
      "execution_count": null,
      "outputs": []
    },
    {
      "cell_type": "code",
      "source": [
        "ps = pst()\n",
        "\n",
        "stemmed_words = []\n",
        "[stemmed_words.append(ps.stem(w)) for w in tokens]\n",
        "\n",
        "print(\"Filtered Sentence: \", tokens)\n",
        "print(\"Stemmed Sentence: \", stemmed_words)"
      ],
      "metadata": {
        "colab": {
          "base_uri": "https://localhost:8080/"
        },
        "id": "EJ4KNUSX1Nof",
        "outputId": "96c5bb3f-fa9a-4d6b-b712-98461849cff8"
      },
      "execution_count": null,
      "outputs": [
        {
          "output_type": "stream",
          "name": "stdout",
          "text": [
            "Filtered Sentence:  ['Just', 'because', 'we', \"'ve\", 'gone', 'away', ',', 'Here', \"'s\", 'a', 'message', 'from', 'me', 'and', 'Ray', ',', 'We', \"'re\", 'not', 'gon', 'na', 'let', 'the', 'music', 'die', ',', 'Join', 'us', 'if', 'you', \"'ve\", 'got', 'the', 'energy', ',', 'We', \"'re\", 'the', 'proud', ',', 'the', 'few', ',', 'Descendents', 'rockin', \"'\", 'alone', 'tonight', ',', 'We', \"'re\", 'the', 'proud', ',', 'the', 'few', ',', 'Descendents', 'pickin', \"'\", 'our', 'butts', 'tonight', '.']\n",
            "Stemmed Sentence:  ['just', 'becaus', 'we', \"'ve\", 'gone', 'away', ',', 'here', \"'s\", 'a', 'messag', 'from', 'me', 'and', 'ray', ',', 'We', \"'re\", 'not', 'gon', 'na', 'let', 'the', 'music', 'die', ',', 'join', 'us', 'if', 'you', \"'ve\", 'got', 'the', 'energi', ',', 'We', \"'re\", 'the', 'proud', ',', 'the', 'few', ',', 'descend', 'rockin', \"'\", 'alon', 'tonight', ',', 'We', \"'re\", 'the', 'proud', ',', 'the', 'few', ',', 'descend', 'pickin', \"'\", 'our', 'butt', 'tonight', '.']\n"
          ]
        }
      ]
    },
    {
      "cell_type": "markdown",
      "source": [
        "Lemmatization is another part of lexicon normalization, which is to linguistically correct lemmas transforming words into their base meaning. Ex: better --> good. Requires a dictonary lookup."
      ],
      "metadata": {
        "id": "GXoqQe1q5rZ_"
      }
    },
    {
      "cell_type": "code",
      "source": [
        "nltk.download('wordnet')\n",
        "from nltk.stem.wordnet import WordNetLemmatizer as WNL"
      ],
      "metadata": {
        "colab": {
          "base_uri": "https://localhost:8080/"
        },
        "id": "Gcpgk4fB6UZ7",
        "outputId": "518d4a76-1aa8-4fe5-d986-62cf460ecf3b"
      },
      "execution_count": null,
      "outputs": [
        {
          "output_type": "stream",
          "name": "stdout",
          "text": [
            "[nltk_data] Downloading package wordnet to /root/nltk_data...\n",
            "[nltk_data]   Unzipping corpora/wordnet.zip.\n"
          ]
        }
      ]
    },
    {
      "cell_type": "code",
      "source": [
        "lem = WNL()\n",
        "\n",
        "lemmed_words = []\n",
        "[lemmed_words.append(lem.lemmatize(w)) for w in tokens]\n",
        "\n",
        "print(\"Filtered Sentence: \", tokens)\n",
        "print(\"Lemmeded Sentence: \", lemmed_words)"
      ],
      "metadata": {
        "colab": {
          "base_uri": "https://localhost:8080/"
        },
        "id": "0nS0ThMB5bUY",
        "outputId": "ed6eb8a7-ff60-4b7a-ff8c-8416917b5f29"
      },
      "execution_count": null,
      "outputs": [
        {
          "output_type": "stream",
          "name": "stdout",
          "text": [
            "Filtered Sentence:  ['Just', 'because', 'we', \"'ve\", 'gone', 'away', ',', 'Here', \"'s\", 'a', 'message', 'from', 'me', 'and', 'Ray', ',', 'We', \"'re\", 'not', 'gon', 'na', 'let', 'the', 'music', 'die', ',', 'Join', 'us', 'if', 'you', \"'ve\", 'got', 'the', 'energy', ',', 'We', \"'re\", 'the', 'proud', ',', 'the', 'few', ',', 'Descendents', 'rockin', \"'\", 'alone', 'tonight', ',', 'We', \"'re\", 'the', 'proud', ',', 'the', 'few', ',', 'Descendents', 'pickin', \"'\", 'our', 'butts', 'tonight', '.']\n",
            "Lemmeded Sentence:  ['Just', 'because', 'we', \"'ve\", 'gone', 'away', ',', 'Here', \"'s\", 'a', 'message', 'from', 'me', 'and', 'Ray', ',', 'We', \"'re\", 'not', 'gon', 'na', 'let', 'the', 'music', 'die', ',', 'Join', 'u', 'if', 'you', \"'ve\", 'got', 'the', 'energy', ',', 'We', \"'re\", 'the', 'proud', ',', 'the', 'few', ',', 'Descendents', 'rockin', \"'\", 'alone', 'tonight', ',', 'We', \"'re\", 'the', 'proud', ',', 'the', 'few', ',', 'Descendents', 'pickin', \"'\", 'our', 'butt', 'tonight', '.']\n"
          ]
        }
      ]
    },
    {
      "cell_type": "markdown",
      "source": [
        "POS Tagging stands for primary part of speech tagging, which identifies the grammatical group of a given word. Whether it is a noun, pronoun, adjective, verb, adverb, based on the context. POS tagging looks for relationships within the sentense and assigns a corrosponding tag to the word.\n",
        "\n"
      ],
      "metadata": {
        "id": "hwf8E5Tq6p9x"
      }
    },
    {
      "cell_type": "code",
      "source": [
        "nltk.download('averaged_perceptron_tagger')"
      ],
      "metadata": {
        "colab": {
          "base_uri": "https://localhost:8080/"
        },
        "id": "Kznz5pjbJUke",
        "outputId": "677d2d81-64c6-4d8c-bf6c-8a6e3aef9296"
      },
      "execution_count": null,
      "outputs": [
        {
          "output_type": "stream",
          "name": "stdout",
          "text": [
            "[nltk_data] Downloading package averaged_perceptron_tagger to\n",
            "[nltk_data]     /root/nltk_data...\n",
            "[nltk_data]   Unzipping taggers/averaged_perceptron_tagger.zip.\n"
          ]
        },
        {
          "output_type": "execute_result",
          "data": {
            "text/plain": [
              "True"
            ]
          },
          "metadata": {},
          "execution_count": 50
        }
      ]
    },
    {
      "cell_type": "code",
      "source": [
        "nltk.pos_tag(tokens)"
      ],
      "metadata": {
        "colab": {
          "base_uri": "https://localhost:8080/"
        },
        "id": "ZbhXd3T8I8QY",
        "outputId": "b35f03f2-d6c0-4111-eae1-2a19eb048455"
      },
      "execution_count": null,
      "outputs": [
        {
          "output_type": "execute_result",
          "data": {
            "text/plain": [
              "[('Just', 'RB'),\n",
              " ('because', 'IN'),\n",
              " ('we', 'PRP'),\n",
              " (\"'ve\", 'VBP'),\n",
              " ('gone', 'VBN'),\n",
              " ('away', 'RB'),\n",
              " (',', ','),\n",
              " ('Here', 'RB'),\n",
              " (\"'s\", 'VBZ'),\n",
              " ('a', 'DT'),\n",
              " ('message', 'NN'),\n",
              " ('from', 'IN'),\n",
              " ('me', 'PRP'),\n",
              " ('and', 'CC'),\n",
              " ('Ray', 'NNP'),\n",
              " (',', ','),\n",
              " ('We', 'PRP'),\n",
              " (\"'re\", 'VBP'),\n",
              " ('not', 'RB'),\n",
              " ('gon', 'VBG'),\n",
              " ('na', 'TO'),\n",
              " ('let', 'VB'),\n",
              " ('the', 'DT'),\n",
              " ('music', 'NN'),\n",
              " ('die', 'NN'),\n",
              " (',', ','),\n",
              " ('Join', 'NNP'),\n",
              " ('us', 'PRP'),\n",
              " ('if', 'IN'),\n",
              " ('you', 'PRP'),\n",
              " (\"'ve\", 'VBP'),\n",
              " ('got', 'VBN'),\n",
              " ('the', 'DT'),\n",
              " ('energy', 'NN'),\n",
              " (',', ','),\n",
              " ('We', 'PRP'),\n",
              " (\"'re\", 'VBP'),\n",
              " ('the', 'DT'),\n",
              " ('proud', 'NN'),\n",
              " (',', ','),\n",
              " ('the', 'DT'),\n",
              " ('few', 'JJ'),\n",
              " (',', ','),\n",
              " ('Descendents', 'NNP'),\n",
              " ('rockin', 'FW'),\n",
              " (\"'\", \"''\"),\n",
              " ('alone', 'RB'),\n",
              " ('tonight', 'NN'),\n",
              " (',', ','),\n",
              " ('We', 'PRP'),\n",
              " (\"'re\", 'VBP'),\n",
              " ('the', 'DT'),\n",
              " ('proud', 'NN'),\n",
              " (',', ','),\n",
              " ('the', 'DT'),\n",
              " ('few', 'JJ'),\n",
              " (',', ','),\n",
              " ('Descendents', 'NNP'),\n",
              " ('pickin', 'FW'),\n",
              " (\"'\", \"''\"),\n",
              " ('our', 'PRP$'),\n",
              " ('butts', 'NN'),\n",
              " ('tonight', 'NN'),\n",
              " ('.', '.')]"
            ]
          },
          "metadata": {},
          "execution_count": 53
        }
      ]
    },
    {
      "cell_type": "markdown",
      "source": [
        "Next, we will create a learner and do sentiment analysis. This means we can create a prediction on whether a word has a positive or negative meaning. We will be using 5 possible labels: 0-negative, 1-somewhat negative, 2-neutral, 3-somewhat positive, 4-positive."
      ],
      "metadata": {
        "id": "Hv2aRaHPJtkV"
      }
    },
    {
      "cell_type": "code",
      "source": [
        "import pandas as pd"
      ],
      "metadata": {
        "id": "XJO1Y77xnKnp"
      },
      "execution_count": 1,
      "outputs": []
    }
  ]
}